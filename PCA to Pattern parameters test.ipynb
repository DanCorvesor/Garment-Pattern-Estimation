{
 "cells": [
  {
   "cell_type": "markdown",
   "metadata": {},
   "source": [
    "## Reproducibility when testing"
   ]
  },
  {
   "cell_type": "code",
   "execution_count": 88,
   "metadata": {},
   "outputs": [],
   "source": [
    "# see https://pytorch.org/docs/stable/notes/randomness.html\n",
    "# torch.manual_seed(0)\n",
    "\n",
    "# when using cuda\n",
    "# torch.backends.cudnn.deterministic = True\n",
    "# torch.backends.cudnn.benchmark = False"
   ]
  },
  {
   "cell_type": "markdown",
   "metadata": {},
   "source": [
    "# Getting Data"
   ]
  },
  {
   "cell_type": "code",
   "execution_count": 67,
   "metadata": {},
   "outputs": [],
   "source": [
    "import os\n",
    "from pathlib import Path\n",
    "import scipy.io  # for reading matlab matrix\n",
    "import numpy as np\n",
    "\n",
    "import torch\n",
    "from torch.utils.data import DataLoader, Dataset\n",
    "import torchvision.transforms as transforms"
   ]
  },
  {
   "cell_type": "code",
   "execution_count": 124,
   "metadata": {},
   "outputs": [],
   "source": [
    "# custom DataSet class\n",
    "class ParametrizedShirtDataSet(Dataset):\n",
    "    \"\"\"\n",
    "    For loading the data of \"Learning Shared Shape Space..\" paper\n",
    "    \"\"\"\n",
    "    \n",
    "    def __init__(self, root_dir, transform = None):\n",
    "        \"\"\"\n",
    "        Args:\n",
    "            root_dir (string): Directory with all the t-shirt examples as subfolders\n",
    "            transform (callable, optional): Optional transform to be applied\n",
    "                on a sample.\n",
    "        \"\"\"\n",
    "        self.transform = transform\n",
    "        self.root_path = Path(root_dir)\n",
    "        \n",
    "        # list of items = subfolders\n",
    "        self.datapoints_names = next(os.walk(self.root_path))[1]\n",
    "        \n",
    "        # datapoint folder structure\n",
    "        self.mesh_filename = 'shirt_mesh_r.obj'\n",
    "        self.pattern_params_filename = 'shirt_info.txt'\n",
    "        self.pca_filename = 'visfea.mat'\n",
    "        \n",
    "        \n",
    "    def __len__(self):\n",
    "        \"\"\"Number of entries in the dataset\"\"\"\n",
    "        return len(self.datapoints_names)\n",
    "    \n",
    "    \n",
    "    def read_pca(self, datapoint_name):\n",
    "        \"\"\"pca parameters from a given datapoint subfolder\"\"\"\n",
    "        assert (self.root_path / datapoint_name / self.pca_filename).exists()\n",
    "        \n",
    "        matlab_mat = scipy.io.loadmat(self.root_path / datapoint_name / self.pca_filename)\n",
    "        # assuming fea1 is what we need\n",
    "        return np.asarray(matlab_mat['fea1']).squeeze()\n",
    "    \n",
    "    \n",
    "    def read_pattern_params(self, datapoint_name):\n",
    "        \"\"\"9 pattern size parameters from a given datapoint subfolder\"\"\"\n",
    "        assert (self.root_path / datapoint_name / self.pattern_params_filename).exists()\n",
    "        \n",
    "        # assuming that we need the numbers from the last line in file\n",
    "        with open(self.root_path / datapoint_name / self.pattern_params_filename) as f:\n",
    "            lines = f.readlines()\n",
    "            params = np.fromstring(lines[-1],  sep = ' ')\n",
    "        return params\n",
    "        \n",
    "    \n",
    "    def __getitem__(self, idx):\n",
    "        \"\"\"Called when indexing: read the corresponding data. \n",
    "        Does not support list indexing\"\"\"\n",
    "        \n",
    "        if torch.is_tensor(idx):  # allow indexing by tensors\n",
    "            idx = idx.tolist()\n",
    "            \n",
    "        datapoint_name = self.datapoints_names[idx]\n",
    "        \n",
    "        pca = self.read_pca(datapoint_name)\n",
    "        \n",
    "        # read the pattern parameters\n",
    "        pattern_parameters = self.read_pattern_params(datapoint_name)\n",
    "        \n",
    "        sample = {'pca' : pca, 'pattern_params' : pattern_parameters}\n",
    "        \n",
    "        if self.transform is not None:\n",
    "            sample = self.transform(sample)\n",
    "        \n",
    "        return sample\n",
    "        "
   ]
  },
  {
   "cell_type": "code",
   "execution_count": 128,
   "metadata": {},
   "outputs": [],
   "source": [
    "# Custom transforms -- to tensor\n",
    "class SampleToTensor(object):\n",
    "    \"\"\"Convert ndarrays in sample to Tensors.\"\"\"\n",
    "    \n",
    "    def __call__(self, sample):\n",
    "        pca, params = sample['pca'], sample['pattern_params']\n",
    "        \n",
    "        return {'pca': torch.from_numpy(pca).float(), 'pattern_params': torch.from_numpy(params).float()}"
   ]
  },
  {
   "cell_type": "code",
   "execution_count": 129,
   "metadata": {},
   "outputs": [],
   "source": [
    "# Data Normalization?"
   ]
  },
  {
   "cell_type": "code",
   "execution_count": 130,
   "metadata": {},
   "outputs": [
    {
     "name": "stdout",
     "output_type": "stream",
     "text": [
      "1050\n",
      "torch.Size([100])\n",
      "torch.Size([9])\n",
      "{'pca': tensor([ 9.0149, 10.0000, 10.0000, 10.0000, 10.0000,  5.7808,  5.1910,  6.1884,\n",
      "         1.9510,  1.6895,  2.1583,  2.8999,  4.4908,  4.8045,  5.8117,  6.2162,\n",
      "         6.9980,  7.0324,  6.3759,  6.3499,  6.6360,  6.5454,  6.9373,  7.6318,\n",
      "         7.3696,  6.6111,  6.3935,  5.8721, 10.0000, 10.0000, 10.0000, 10.0000,\n",
      "         2.7178,  1.1612,  1.1830,  1.1401,  1.0348,  1.1202,  1.7733,  1.8811,\n",
      "         1.8206,  2.0156,  1.9965,  1.3682,  1.1243,  1.0234,  1.0265,  1.0053,\n",
      "         1.0459,  0.9955,  1.0309,  0.9502,  0.9865,  1.1324,  0.9609,  0.9914,\n",
      "         1.1065,  0.9862,  1.1519,  1.0107,  0.9616,  0.9817,  0.9882,  0.9652,\n",
      "         0.9811,  0.9486,  1.0291,  1.0376,  1.0312,  1.0907,  1.0268,  1.0780,\n",
      "         1.1159,  1.1369,  1.0791,  1.0396,  1.1149,  1.1024,  1.1467,  1.2941,\n",
      "         0.9927,  1.0200,  1.0849,  0.9808,  0.9873,  0.9746,  0.9548,  0.9753,\n",
      "         0.9825,  0.9796,  0.9285,  1.2289,  1.5788,  2.1209,  2.6923,  2.4804,\n",
      "         2.2145,  9.6629, 10.0000, 10.0000]), 'pattern_params': tensor([1.0570, 0.8062, 0.9313, 0.7458, 1.1320, 1.4794, 1.4794, 0.8332, 1.0000])}\n"
     ]
    }
   ],
   "source": [
    "# test loading\n",
    "dataset = ParametrizedShirtDataSet(Path('D:\\Data\\CLOTHING\\Learning Shared Shape Space_shirt_dataset_rest'), \n",
    "                                  SampleToTensor())\n",
    "\n",
    "print (len(dataset))\n",
    "print (dataset[1000]['pca'].shape)\n",
    "print (dataset[1000]['pattern_params'].shape)\n",
    "print (dataset[1000])"
   ]
  },
  {
   "cell_type": "markdown",
   "metadata": {},
   "source": [
    "# Defining a Net"
   ]
  },
  {
   "cell_type": "code",
   "execution_count": 90,
   "metadata": {},
   "outputs": [],
   "source": [
    "import torch.nn as nn\n",
    "import torch.functional as F"
   ]
  },
  {
   "cell_type": "code",
   "execution_count": 133,
   "metadata": {},
   "outputs": [],
   "source": [
    "class ShirtPCAMLP(nn.Module):\n",
    "    \"\"\"MLP for training on shirts dataset. Assumes 100 PCA parameters used\"\"\"\n",
    "    \n",
    "    def __init__(self):\n",
    "        super().__init__()\n",
    "        \n",
    "        # layers definitions\n",
    "        self.sequence = nn.Sequential(\n",
    "            nn.Linear(100, 120), \n",
    "            nn.ReLU(), \n",
    "            nn.Linear(120, 80), \n",
    "            nn.ReLU(), \n",
    "            nn.Linear(80, 60),\n",
    "            nn.ReLU(),\n",
    "            nn.Linear(60, 9)\n",
    "        )\n",
    "    \n",
    "    def forward(self, x_batch):\n",
    "        return self.sequence(x_batch)"
   ]
  },
  {
   "cell_type": "code",
   "execution_count": 94,
   "metadata": {},
   "outputs": [
    {
     "name": "stdout",
     "output_type": "stream",
     "text": [
      "ShirtPCAMLP(\n",
      "  (sequence): Sequential(\n",
      "    (0): Linear(in_features=100, out_features=120, bias=True)\n",
      "    (1): ReLU()\n",
      "    (2): Linear(in_features=120, out_features=80, bias=True)\n",
      "    (3): ReLU()\n",
      "    (4): Linear(in_features=80, out_features=60, bias=True)\n",
      "    (5): ReLU()\n",
      "    (6): Linear(in_features=60, out_features=10, bias=True)\n",
      "  )\n",
      ")\n"
     ]
    }
   ],
   "source": [
    "net = ShirtPCAMLP()\n",
    "\n",
    "print (net)"
   ]
  },
  {
   "cell_type": "markdown",
   "metadata": {},
   "source": [
    "# Training"
   ]
  },
  {
   "cell_type": "code",
   "execution_count": 131,
   "metadata": {},
   "outputs": [
    {
     "name": "stdout",
     "output_type": "stream",
     "text": [
      "Split: 945 / 105\n"
     ]
    }
   ],
   "source": [
    "# Data load and split\n",
    "shirt_dataset = ParametrizedShirtDataSet(Path('D:\\Data\\CLOTHING\\Learning Shared Shape Space_shirt_dataset_rest'), \n",
    "                                  SampleToTensor())\n",
    "\n",
    "valid_size = (int) (len(shirt_dataset) / 10)\n",
    "# split is RANDOM. Might affect performance\n",
    "training_set, validation_set = torch.utils.data.random_split(\n",
    "    shirt_dataset, \n",
    "    (len(shirt_dataset) - valid_size, valid_size))\n",
    "\n",
    "print ('Split: {} / {}'.format(len(training_set), len(validation_set)))\n",
    "\n",
    "training_loader = DataLoader(training_set, batch_size, shuffle=True)\n",
    "validation_loader = DataLoader(validation_set, batch_size)"
   ]
  },
  {
   "cell_type": "code",
   "execution_count": 159,
   "metadata": {},
   "outputs": [],
   "source": [
    "# Basic Parameters\n",
    "batch_size = 64\n",
    "epochs_num = 100\n",
    "learning_rate = 0.1"
   ]
  },
  {
   "cell_type": "code",
   "execution_count": 205,
   "metadata": {},
   "outputs": [],
   "source": [
    "# Training loop func\n",
    "\n",
    "def fit(model, regression_loss, optimizer, train_loader):\n",
    "    \n",
    "    validation_losses = []\n",
    "    running_losses = []\n",
    "    \n",
    "    for epoch in range (epochs_num):\n",
    "        model.train()\n",
    "        running_loss = 0.0\n",
    "        for i, batch in enumerate(training_loader):\n",
    "            preds = model(batch['pca'])\n",
    "            \n",
    "            loss = regression_loss(preds, batch['pattern_params'])\n",
    "            loss.backward()\n",
    "            \n",
    "            optimizer.step()\n",
    "            optimizer.zero_grad()\n",
    "            \n",
    "            # logging\n",
    "            running_loss += loss.item()\n",
    "            #if i % 5 == 4:\n",
    "            #    print ('Epoch: {}, Step: {}, Loss: {}'.format(epoch, i, running_loss))\n",
    "            #    running_loss = 0.0 # start over from the logged point\n",
    "            \n",
    "        running_losses.append(running_loss / (len(training_loader)))\n",
    "        \n",
    "        model.eval()\n",
    "        with torch.no_grad():\n",
    "            losses, nums = zip(\n",
    "                *[(regression_loss(model(batch['pca']), batch['pattern_params']), len(batch)) for batch in validation_loader]\n",
    "            )\n",
    "            \n",
    "        valid_loss = np.sum(losses) / np.sum(nums)\n",
    "        validation_losses.append(valid_loss)\n",
    "        print ('Epoch: {}, Validation Loss: {}'.format(epoch, valid_loss))\n",
    "        \n",
    "    return validation_losses, running_losses"
   ]
  },
  {
   "cell_type": "code",
   "execution_count": 206,
   "metadata": {},
   "outputs": [],
   "source": [
    "# Get all the definitions\n",
    "# model\n",
    "model = ShirtPCAMLP()\n",
    "\n",
    "# optimizer\n",
    "optimizer = torch.optim.SGD(model.parameters(), lr = learning_rate)\n",
    "\n",
    "# loss function\n",
    "regression_loss = nn.MSELoss()"
   ]
  },
  {
   "cell_type": "code",
   "execution_count": 207,
   "metadata": {},
   "outputs": [
    {
     "name": "stdout",
     "output_type": "stream",
     "text": [
      "Epoch: 0, Validation Loss: 0.03244992718100548\n",
      "Epoch: 1, Validation Loss: 0.02951507642865181\n",
      "Epoch: 2, Validation Loss: 0.06014000624418259\n",
      "Epoch: 3, Validation Loss: 0.02415366843342781\n",
      "Epoch: 4, Validation Loss: 0.04062524810433388\n",
      "Epoch: 5, Validation Loss: 0.015570399351418018\n",
      "Epoch: 6, Validation Loss: 0.021423306316137314\n",
      "Epoch: 7, Validation Loss: 0.0110200559720397\n",
      "Epoch: 8, Validation Loss: 0.013582885265350342\n",
      "Epoch: 9, Validation Loss: 0.01229143887758255\n",
      "Epoch: 10, Validation Loss: 0.01351252757012844\n",
      "Epoch: 11, Validation Loss: 0.007512715645134449\n",
      "Epoch: 12, Validation Loss: 0.00809786468744278\n",
      "Epoch: 13, Validation Loss: 0.008079607039690018\n",
      "Epoch: 14, Validation Loss: 0.011633642017841339\n",
      "Epoch: 15, Validation Loss: 0.004317091312259436\n",
      "Epoch: 16, Validation Loss: 0.005825447849929333\n",
      "Epoch: 17, Validation Loss: 0.0042252917774021626\n",
      "Epoch: 18, Validation Loss: 0.004897519946098328\n",
      "Epoch: 19, Validation Loss: 0.005026494152843952\n",
      "Epoch: 20, Validation Loss: 0.005227731540799141\n",
      "Epoch: 21, Validation Loss: 0.003696937346830964\n",
      "Epoch: 22, Validation Loss: 0.006481255404651165\n",
      "Epoch: 23, Validation Loss: 0.004562637768685818\n",
      "Epoch: 24, Validation Loss: 0.005491884425282478\n",
      "Epoch: 25, Validation Loss: 0.0037423772737383842\n",
      "Epoch: 26, Validation Loss: 0.003556296229362488\n",
      "Epoch: 27, Validation Loss: 0.003939149901270866\n",
      "Epoch: 28, Validation Loss: 0.0035521704703569412\n",
      "Epoch: 29, Validation Loss: 0.003592445980757475\n",
      "Epoch: 30, Validation Loss: 0.00348978815600276\n",
      "Epoch: 31, Validation Loss: 0.004436954855918884\n",
      "Epoch: 32, Validation Loss: 0.003939558751881123\n",
      "Epoch: 33, Validation Loss: 0.005153578706085682\n",
      "Epoch: 34, Validation Loss: 0.003592030145227909\n",
      "Epoch: 35, Validation Loss: 0.003390858881175518\n",
      "Epoch: 36, Validation Loss: 0.003795517375692725\n",
      "Epoch: 37, Validation Loss: 0.004210725426673889\n",
      "Epoch: 38, Validation Loss: 0.003456530626863241\n",
      "Epoch: 39, Validation Loss: 0.0036685995291918516\n",
      "Epoch: 40, Validation Loss: 0.0034418022260069847\n",
      "Epoch: 41, Validation Loss: 0.0038247741758823395\n",
      "Epoch: 42, Validation Loss: 0.004244604613631964\n",
      "Epoch: 43, Validation Loss: 0.003537486307322979\n",
      "Epoch: 44, Validation Loss: 0.003184060798957944\n",
      "Epoch: 45, Validation Loss: 0.003963622264564037\n",
      "Epoch: 46, Validation Loss: 0.0031435079872608185\n",
      "Epoch: 47, Validation Loss: 0.0033988826908171177\n",
      "Epoch: 48, Validation Loss: 0.00331476959399879\n",
      "Epoch: 49, Validation Loss: 0.0031319307163357735\n",
      "Epoch: 50, Validation Loss: 0.003092011669650674\n",
      "Epoch: 51, Validation Loss: 0.0035586399026215076\n",
      "Epoch: 52, Validation Loss: 0.003319453913718462\n",
      "Epoch: 53, Validation Loss: 0.0033468338660895824\n",
      "Epoch: 54, Validation Loss: 0.003350900486111641\n",
      "Epoch: 55, Validation Loss: 0.0030890023335814476\n",
      "Epoch: 56, Validation Loss: 0.0030818860977888107\n",
      "Epoch: 57, Validation Loss: 0.0031217457726597786\n",
      "Epoch: 58, Validation Loss: 0.004134134855121374\n",
      "Epoch: 59, Validation Loss: 0.00364771974273026\n",
      "Epoch: 60, Validation Loss: 0.0029649410862475634\n",
      "Epoch: 61, Validation Loss: 0.003121938556432724\n",
      "Epoch: 62, Validation Loss: 0.003644685260951519\n",
      "Epoch: 63, Validation Loss: 0.003567523555830121\n",
      "Epoch: 64, Validation Loss: 0.002974711824208498\n",
      "Epoch: 65, Validation Loss: 0.0029383094515651464\n",
      "Epoch: 66, Validation Loss: 0.0029919545631855726\n",
      "Epoch: 67, Validation Loss: 0.003412630409002304\n",
      "Epoch: 68, Validation Loss: 0.0029646512120962143\n",
      "Epoch: 69, Validation Loss: 0.0029631988145411015\n",
      "Epoch: 70, Validation Loss: 0.0030884980224072933\n",
      "Epoch: 71, Validation Loss: 0.002969736699014902\n",
      "Epoch: 72, Validation Loss: 0.0029976319056004286\n",
      "Epoch: 73, Validation Loss: 0.0029109655879437923\n",
      "Epoch: 74, Validation Loss: 0.0028680050745606422\n",
      "Epoch: 75, Validation Loss: 0.0028862408362329006\n",
      "Epoch: 76, Validation Loss: 0.0029766676016151905\n",
      "Epoch: 77, Validation Loss: 0.0029337648302316666\n",
      "Epoch: 78, Validation Loss: 0.002847231924533844\n",
      "Epoch: 79, Validation Loss: 0.002888892777264118\n",
      "Epoch: 80, Validation Loss: 0.00362381711602211\n",
      "Epoch: 81, Validation Loss: 0.002884287852793932\n",
      "Epoch: 82, Validation Loss: 0.0028507853858172894\n",
      "Epoch: 83, Validation Loss: 0.0029817456379532814\n",
      "Epoch: 84, Validation Loss: 0.00295495823957026\n",
      "Epoch: 85, Validation Loss: 0.0028607347048819065\n",
      "Epoch: 86, Validation Loss: 0.002973382594063878\n",
      "Epoch: 87, Validation Loss: 0.0030168388038873672\n",
      "Epoch: 88, Validation Loss: 0.0028352404478937387\n",
      "Epoch: 89, Validation Loss: 0.0029609978664666414\n",
      "Epoch: 90, Validation Loss: 0.002832096768543124\n",
      "Epoch: 91, Validation Loss: 0.00304814032278955\n",
      "Epoch: 92, Validation Loss: 0.0028931370470672846\n",
      "Epoch: 93, Validation Loss: 0.0028881975449621677\n",
      "Epoch: 94, Validation Loss: 0.003751118201762438\n",
      "Epoch: 95, Validation Loss: 0.002916294150054455\n",
      "Epoch: 96, Validation Loss: 0.0028323892038315535\n",
      "Epoch: 97, Validation Loss: 0.0027837154921144247\n",
      "Epoch: 98, Validation Loss: 0.0029711066745221615\n",
      "Epoch: 99, Validation Loss: 0.0029384694062173367\n",
      "Finished training\n"
     ]
    }
   ],
   "source": [
    "# train\n",
    "\n",
    "validation_losses, running_losses = fit(model, regression_loss, optimizer, training_loader)\n",
    "\n",
    "print (\"Finished training\")"
   ]
  },
  {
   "cell_type": "markdown",
   "metadata": {},
   "source": [
    "# Visualization"
   ]
  },
  {
   "cell_type": "code",
   "execution_count": 208,
   "metadata": {},
   "outputs": [
    {
     "data": {
      "image/png": "[encoded data removed]",
      "text/plain": [
       "<Figure size 720x216 with 2 Axes>"
      ]
     },
     "metadata": {
      "needs_background": "light"
     },
     "output_type": "display_data"
    }
   ],
   "source": [
    "# visuaize losses\n",
    "import matplotlib.pyplot as plt\n",
    "\n",
    "fig = plt.figure(figsize=(10, 3))\n",
    "\n",
    "ax = plt.subplot(1, 2, 1)\n",
    "plt.tight_layout()\n",
    "ax.set_title(\"Training (running)\")\n",
    "plt.plot(running_losses)\n",
    "plt.ylabel('Loss')\n",
    "plt.xlabel('Epoch')\n",
    "\n",
    "ax = plt.subplot(1, 2, 2)\n",
    "plt.tight_layout()\n",
    "ax.set_title(\"Validation\")\n",
    "plt.plot(validation_losses)\n",
    "plt.xlabel('Epoch')\n",
    "\n",
    "plt.show()\n"
   ]
  },
  {
   "cell_type": "code",
   "execution_count": 209,
   "metadata": {},
   "outputs": [
    {
     "data": {
      "image/png": "[encoded data removed]",
      "text/plain": [
       "<Figure size 432x288 with 1 Axes>"
      ]
     },
     "metadata": {
      "needs_background": "light"
     },
     "output_type": "display_data"
    }
   ],
   "source": [
    "# on the same plot\n",
    "plt.plot(running_losses, label = \"Average running loss (training)\")\n",
    "plt.plot(validation_losses, label = \"Average validation loss\")\n",
    "plt.ylabel('Loss')\n",
    "plt.xlabel('Epoch')\n",
    "plt.legend()\n",
    "\n",
    "plt.show()"
   ]
  },
  {
   "cell_type": "code",
   "execution_count": 210,
   "metadata": {},
   "outputs": [
    {
     "name": "stdout",
     "output_type": "stream",
     "text": [
      "Validation loss: 0.011753877624869347\n"
     ]
    }
   ],
   "source": [
    "# loss on validation set\n",
    "valid_loss = sum([regression_loss(model(batch['pca']), batch['pattern_params']) for batch in validation_loader]) \n",
    "\n",
    "print ('Validation loss: {}'.format(valid_loss))"
   ]
  },
  {
   "cell_type": "code",
   "execution_count": null,
   "metadata": {},
   "outputs": [],
   "source": []
  }
 ],
 "metadata": {
  "kernelspec": {
   "display_name": "Python 3",
   "language": "python",
   "name": "python3"
  },
  "language_info": {
   "codemirror_mode": {
    "name": "ipython",
    "version": 3
   },
   "file_extension": ".py",
   "mimetype": "text/x-python",
   "name": "python",
   "nbconvert_exporter": "python",
   "pygments_lexer": "ipython3",
   "version": "3.6.10"
  }
 },
 "nbformat": 4,
 "nbformat_minor": 4
}
